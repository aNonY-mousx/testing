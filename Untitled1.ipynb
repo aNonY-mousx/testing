{
 "cells": [
  {
   "cell_type": "code",
   "execution_count": 1,
   "metadata": {},
   "outputs": [],
   "source": [
    "## importing trained model and predicting"
   ]
  },
  {
   "cell_type": "code",
   "execution_count": 2,
   "metadata": {},
   "outputs": [],
   "source": [
    "from sklearn.externals import joblib\n"
   ]
  },
  {
   "cell_type": "code",
   "execution_count": 3,
   "metadata": {},
   "outputs": [],
   "source": [
    "# load the trained model\n",
    "rfmodel =joblib.load('model.joblib')"
   ]
  },
  {
   "cell_type": "code",
   "execution_count": null,
   "metadata": {},
   "outputs": [],
   "source": []
  },
  {
   "cell_type": "code",
   "execution_count": 4,
   "metadata": {},
   "outputs": [],
   "source": [
    "# predict garna input array ko size (31)"
   ]
  },
  {
   "cell_type": "code",
   "execution_count": 5,
   "metadata": {},
   "outputs": [],
   "source": [
    "# 21 columns of input hunu parxa \n",
    "# Index(['id', 'loan_amnt', 'funded_amnt', 'funded_amnt_inv', 'term', 'int_rate',\n",
    "#        'installment', 'dti', 'delinq_2yrs', 'inq_last_6mths', 'pub_rec',\n",
    "#        'revol_bal', 'revol_util', 'total_pymnt', 'total_rec_prncp',\n",
    "#        'total_rec_int', 'total_rec_late_fee', 'recoveries',\n",
    "#        'collection_recovery_fee', 'loan_status', 'purpose'],\n",
    "#       dtype='object')\n",
    "\n",
    "\n",
    "# after processing the categorical data the no of column increases\n",
    "# Index(['loan_amnt', 'funded_amnt', 'funded_amnt_inv', 'term', 'int_rate',\n",
    "#        'installment', 'dti', 'delinq_2yrs', 'inq_last_6mths', 'pub_rec',\n",
    "#        'revol_bal', 'revol_util', 'total_pymnt', 'total_rec_prncp',\n",
    "#        'total_rec_int', 'total_rec_late_fee', 'recoveries',\n",
    "#        'collection_recovery_fee', 'loan_status', 'purpose_car',\n",
    "#        'purpose_credit_card', 'purpose_debt_consolidation',\n",
    "#        'purpose_home_improvement', 'purpose_house', 'purpose_major_purchase',\n",
    "#        'purpose_medical', 'purpose_moving', 'purpose_other',\n",
    "#        'purpose_renewable_energy', 'purpose_small_business',\n",
    "#        'purpose_vacation', 'purpose_wedding'],\n",
    "#       dtype='object')"
   ]
  },
  {
   "cell_type": "code",
   "execution_count": 6,
   "metadata": {},
   "outputs": [],
   "source": [
    "inputData = {\n",
    "    'loan_amt': 0,\n",
    "    'funded_amt': 0,\n",
    "    'funded_amt_inv': 0,\n",
    "    'term': 0,\n",
    "    'interest_rate': 0,\n",
    "    'installment': 0,\n",
    "    'dti': 0,\n",
    "    'delinq_2yrs': 0,\n",
    "    'inq_last_6mths': 0,\n",
    "    'pub_rec': 0,\n",
    "    'revol_bal': 0,\n",
    "    'revol_util': 0,\n",
    "    'total_payment': 0,\n",
    "    'total_rec_prncp': 0,\n",
    "    'total_rec_int': 0,\n",
    "    'total_rec_late_fee': 0,\n",
    "    'recoveries': 0,\n",
    "    'collection_recovery_fee': 0,\n",
    "    'purpose_car': 0,\n",
    "    'purpose_credit_card': 0,\n",
    "    'purpose_debt_consolidation': 0,\n",
    "    'purpose_home_improvement': 0,\n",
    "    'purpose_house': 0,\n",
    "    'purpose_major_purchase': 0,\n",
    "    'purpose_medical': 0,\n",
    "    'purpose_moving': 0,\n",
    "    'purpose_other': 0,\n",
    "    'purpose_renewable_energy': 0,\n",
    "    'purpose_small_business': 0,\n",
    "    'purpose_vacation': 0,\n",
    "    'purpose_wedding': 0,\n",
    "}"
   ]
  },
  {
   "cell_type": "code",
   "execution_count": 7,
   "metadata": {},
   "outputs": [
    {
     "data": {
      "text/plain": [
       "31"
      ]
     },
     "execution_count": 7,
     "metadata": {},
     "output_type": "execute_result"
    }
   ],
   "source": [
    "len(inputData)"
   ]
  },
  {
   "cell_type": "code",
   "execution_count": 8,
   "metadata": {},
   "outputs": [
    {
     "data": {
      "text/plain": [
       "(31,)"
      ]
     },
     "execution_count": 8,
     "metadata": {},
     "output_type": "execute_result"
    }
   ],
   "source": [
    "import numpy as np\n",
    "inputArray = np.fromiter(inputData.values(), dtype=float)\n",
    "inputArray.shape"
   ]
  },
  {
   "cell_type": "code",
   "execution_count": null,
   "metadata": {},
   "outputs": [
    {
     "data": {
      "text/plain": [
       "array(['Charged Off', 'Fully Paid'], dtype=object)"
      ]
     },
     "execution_count": 9,
     "metadata": {},
     "output_type": "execute_result"
    }
   ],
   "source": [
    "prediction = rfmodel.predict([inputArray])\n",
    "probabs = rfmodel.predict_proba([inputArray])\n",
    "rfmodel.classes_"
   ]
  },
  {
   "cell_type": "code",
   "execution_count": null,
   "metadata": {},
   "outputs": [
    {
     "name": "stdout",
     "output_type": "stream",
     "text": [
      "tirdaina mula sag le\n"
     ]
    }
   ],
   "source": [
    "if prediction=='Charged Off':\n",
    "    print ('tirdaina mula sag le')"
   ]
  },
  {
   "cell_type": "code",
   "execution_count": null,
   "metadata": {},
   "outputs": [],
   "source": [
    "def predict_and_prepare_result():\n",
    "    #convert inputData dictionary into numpy array to send to the model for prediction\n",
    "    inputArray = np.fromiter(inputData.values(), dtype=float)\n",
    "    print('Input array',inputArray)\n",
    "    # make prediction\n",
    "    prediction = rfmodel.predict([inputArray])\n",
    "    probabs = rfmodel.predict_proba([inputArray]) # [charge off confidence, fully paid confidence]\n",
    "    result = {}\n",
    "    if (prediction=='Charged Off'):\n",
    "        # our model predicts that person applying will not be able to repay his loan (loan chukta garna sakdaina)\n",
    "        result['result']='Sorry! You cannot apply for the loan'\n",
    "        result['confidence'] = probabs[0][0]\n",
    "    else:\n",
    "        # our model predicts the persion applying will repay his loan\n",
    "        result['result'] = 'Congratulations ! You can apply for the loan'\n",
    "        result['confidenct'] = probabs[1][1]\n",
    "    return result"
   ]
  },
  {
   "cell_type": "code",
   "execution_count": null,
   "metadata": {},
   "outputs": [
    {
     "name": "stdout",
     "output_type": "stream",
     "text": [
      "Input array [0. 0. 0. 0. 0. 0. 0. 0. 0. 0. 0. 0. 0. 0. 0. 0. 0. 0. 0. 0. 0. 0. 0. 0.\n",
      " 0. 0. 0. 0. 0. 0. 0.]\n"
     ]
    },
    {
     "data": {
      "text/plain": [
       "{'result': 'Sorry! You cannot apply for the loan', 'confidence': 0.66}"
      ]
     },
     "execution_count": 12,
     "metadata": {},
     "output_type": "execute_result"
    }
   ],
   "source": [
    "predict_and_prepare_result()"
   ]
  },
  {
   "cell_type": "code",
   "execution_count": null,
   "metadata": {},
   "outputs": [],
   "source": [
    "#Server ko Kaam"
   ]
  },
  {
   "cell_type": "code",
   "execution_count": null,
   "metadata": {},
   "outputs": [
    {
     "data": {
      "text/plain": [
       "<flask_cors.extension.CORS at 0x7f368b0f7c88>"
      ]
     },
     "execution_count": 14,
     "metadata": {},
     "output_type": "execute_result"
    }
   ],
   "source": [
    "from flask import Flask, jsonify, request, render_template\n",
    "from flask_cors import CORS\n",
    "app = Flask(__name__)\n",
    "CORS(app)"
   ]
  },
  {
   "cell_type": "code",
   "execution_count": null,
   "metadata": {},
   "outputs": [],
   "source": [
    "@app.route('/',methods=['GET'])\n",
    "def index():\n",
    "    return render_template('index.html')"
   ]
  },
  {
   "cell_type": "code",
   "execution_count": null,
   "metadata": {},
   "outputs": [],
   "source": [
    "@app.route('/predict',methods=['POST'])\n",
    "def makePrediction():\n",
    "    default_value = 0\n",
    "    inputData['loan_amt'] = request.form.get('loan_amount',default_value) if (request.form.get('loan_amount',default_value)!='') else 0 \n",
    "    inputData['funded_amt'] = request.form.get('funded_amount',default_value) if (request.form.get('funded_amount',default_value)!='') else 0 \n",
    "    inputData['term'] = request.form.get('term',default_value) if (request.form.get('term',default_value)!='') else 0 \n",
    "    inputData['interest_rate'] = request.form.get('interest_rate',default_value) if (request.form.get('interest_rate',default_value)!='') else 0 \n",
    "    inputData['installment'] = request.form.get('installment',default_value) if (request.form.get('installment',default_value)!='') else 0 \n",
    "    inputData['dti'] = request.form.get('dti',default_value) if (request.form.get('dti',default_value)!='') else 0 \n",
    "    purpose = request.form.get('purpose') if (request.form.get('purpose',default_value)!='') else 0 \n",
    "    #process the purpose and then set appropriate value\n",
    "    inputData['purpose_other']=1\n",
    "    result = predict_and_prepare_result()\n",
    "    return render_template('result.html',result=result['result'],confidence=result['confidence'])\n",
    "    #return jsonify(result)\n",
    "    #print(request.is_json)"
   ]
  },
  {
   "cell_type": "code",
   "execution_count": null,
   "metadata": {
    "scrolled": true
   },
   "outputs": [
    {
     "name": "stdout",
     "output_type": "stream",
     "text": [
      " * Serving Flask app \"__main__\" (lazy loading)\n",
      " * Environment: production\n",
      "   WARNING: Do not use the development server in a production environment.\n",
      "   Use a production WSGI server instead.\n",
      " * Debug mode: off\n"
     ]
    },
    {
     "name": "stderr",
     "output_type": "stream",
     "text": [
      " * Running on http://127.0.0.1:8080/ (Press CTRL+C to quit)\n",
      "127.0.0.1 - - [04/Jun/2019 16:38:42] \"\u001b[37mGET / HTTP/1.1\u001b[0m\" 200 -\n"
     ]
    }
   ],
   "source": [
    "if __name__ == '__main__':\n",
    "     #lrmodel=joblib.load('model.joblib')\n",
    "     app.run(port=8080)"
   ]
  },
  {
   "cell_type": "code",
   "execution_count": null,
   "metadata": {},
   "outputs": [],
   "source": []
  },
  {
   "cell_type": "code",
   "execution_count": null,
   "metadata": {},
   "outputs": [],
   "source": []
  },
  {
   "cell_type": "code",
   "execution_count": null,
   "metadata": {},
   "outputs": [],
   "source": []
  }
 ],
 "metadata": {
  "kernelspec": {
   "display_name": "Python 3",
   "language": "python",
   "name": "python3"
  },
  "language_info": {
   "codemirror_mode": {
    "name": "ipython",
    "version": 3
   },
   "file_extension": ".py",
   "mimetype": "text/x-python",
   "name": "python",
   "nbconvert_exporter": "python",
   "pygments_lexer": "ipython3",
   "version": "3.6.8"
  }
 },
 "nbformat": 4,
 "nbformat_minor": 2
}
